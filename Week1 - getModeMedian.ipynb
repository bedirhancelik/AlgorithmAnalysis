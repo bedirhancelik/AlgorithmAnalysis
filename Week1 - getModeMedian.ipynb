{
 "cells": [
  {
   "cell_type": "code",
   "execution_count": 1,
   "metadata": {},
   "outputs": [],
   "source": [
    "import random\n",
    "\n",
    "#random list generator function\n",
    "\n",
    "def random_list(n,min,max):\n",
    "    list1=[]\n",
    "    for i in range(n):\n",
    "        list1.append(random.randint(min,max))\n",
    "    return list1"
   ]
  },
  {
   "cell_type": "code",
   "execution_count": 2,
   "metadata": {},
   "outputs": [
    {
     "name": "stdout",
     "output_type": "stream",
     "text": [
      "[2, 2, 3, 3, 4, 6, 8, 9, 9, 9]\n",
      "Mod: 9 \n",
      "Median:  5.0\n"
     ]
    }
   ],
   "source": [
    "def getModeMedian(list1):\n",
    "    \n",
    "    n=len(list1) #length of list1\n",
    "    \n",
    "    #Bubble Sort\n",
    "    for i in range(n-1,-1,-1): #Complexity => O(n(n+1)/2) => O(n^2+n/2) => O(n^2)\n",
    "        for j in range(0,i):\n",
    "            if(list1[j] > list1[j+1]):\n",
    "                list1[j], list1[j+1] = list1[j+1], list1[j]\n",
    "    \n",
    "    \n",
    "    \n",
    "             \n",
    "    frequency_list1={}\n",
    "    \n",
    "    #histogram\n",
    "    for i in list1: #Complexity => O(n)\n",
    "        if(i in frequency_list1):\n",
    "            frequency_list1[i] += 1\n",
    "        else:\n",
    "            frequency_list1[i] = 1\n",
    "    \n",
    "    \n",
    "    \n",
    "    \n",
    "    #getMedian  Complexity => O(1)\n",
    "    \n",
    "    median=0\n",
    "    if(n%2!=0):    #if length of list1 is odd.\n",
    "        median=list1[int(n/2)]\n",
    "    else:          #if length of list1 is even.\n",
    "        median= (list1[int(n/2)]+list1[int(n/2-1)]) / 2\n",
    "    \n",
    "    \n",
    "    \n",
    "    \n",
    "    #getMode from histogram Complexity => O(n)\n",
    "    \n",
    "    mode=0\n",
    "    max_frequency=-1\n",
    "    for key in frequency_list1.keys():\n",
    "        if(frequency_list1[key]>max_frequency):\n",
    "            max_frequency = frequency_list1[key]\n",
    "            mode=key\n",
    "            \n",
    "            \n",
    "    return mode,median\n",
    "\n",
    "list1=random_list(10,1,10)\n",
    "mode,median=getModeMedian(list1)\n",
    "print(list1)\n",
    "print(\"Mod:\",mode,\"\\nMedian: \",median)"
   ]
  }
 ],
 "metadata": {
  "kernelspec": {
   "display_name": "Python 3",
   "language": "python",
   "name": "python3"
  },
  "language_info": {
   "codemirror_mode": {
    "name": "ipython",
    "version": 3
   },
   "file_extension": ".py",
   "mimetype": "text/x-python",
   "name": "python",
   "nbconvert_exporter": "python",
   "pygments_lexer": "ipython3",
   "version": "3.7.0"
  }
 },
 "nbformat": 4,
 "nbformat_minor": 2
}
